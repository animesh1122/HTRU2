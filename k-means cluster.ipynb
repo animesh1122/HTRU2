{
 "cells": [
  {
   "cell_type": "code",
   "execution_count": 115,
   "metadata": {},
   "outputs": [
    {
     "data": {
      "text/html": [
       "<div>\n",
       "<style scoped>\n",
       "    .dataframe tbody tr th:only-of-type {\n",
       "        vertical-align: middle;\n",
       "    }\n",
       "\n",
       "    .dataframe tbody tr th {\n",
       "        vertical-align: top;\n",
       "    }\n",
       "\n",
       "    .dataframe thead th {\n",
       "        text-align: right;\n",
       "    }\n",
       "</style>\n",
       "<table border=\"1\" class=\"dataframe\">\n",
       "  <thead>\n",
       "    <tr style=\"text-align: right;\">\n",
       "      <th></th>\n",
       "      <th>M1</th>\n",
       "      <th>ST1</th>\n",
       "      <th>EX1</th>\n",
       "      <th>SK1</th>\n",
       "      <th>M2</th>\n",
       "      <th>ST2</th>\n",
       "      <th>EX2</th>\n",
       "      <th>SK2</th>\n",
       "      <th>class</th>\n",
       "    </tr>\n",
       "  </thead>\n",
       "  <tbody>\n",
       "    <tr>\n",
       "      <td>0</td>\n",
       "      <td>102.507812</td>\n",
       "      <td>58.882430</td>\n",
       "      <td>0.465318</td>\n",
       "      <td>-0.515088</td>\n",
       "      <td>1.677258</td>\n",
       "      <td>14.860146</td>\n",
       "      <td>10.576487</td>\n",
       "      <td>127.393580</td>\n",
       "      <td>0</td>\n",
       "    </tr>\n",
       "    <tr>\n",
       "      <td>1</td>\n",
       "      <td>103.015625</td>\n",
       "      <td>39.341649</td>\n",
       "      <td>0.323328</td>\n",
       "      <td>1.051164</td>\n",
       "      <td>3.121237</td>\n",
       "      <td>21.744669</td>\n",
       "      <td>7.735822</td>\n",
       "      <td>63.171909</td>\n",
       "      <td>0</td>\n",
       "    </tr>\n",
       "    <tr>\n",
       "      <td>2</td>\n",
       "      <td>136.750000</td>\n",
       "      <td>57.178449</td>\n",
       "      <td>-0.068415</td>\n",
       "      <td>-0.636238</td>\n",
       "      <td>3.642977</td>\n",
       "      <td>20.959280</td>\n",
       "      <td>6.896499</td>\n",
       "      <td>53.593661</td>\n",
       "      <td>0</td>\n",
       "    </tr>\n",
       "    <tr>\n",
       "      <td>3</td>\n",
       "      <td>88.726562</td>\n",
       "      <td>40.672225</td>\n",
       "      <td>0.600866</td>\n",
       "      <td>1.123492</td>\n",
       "      <td>1.178930</td>\n",
       "      <td>11.468720</td>\n",
       "      <td>14.269573</td>\n",
       "      <td>252.567306</td>\n",
       "      <td>0</td>\n",
       "    </tr>\n",
       "    <tr>\n",
       "      <td>4</td>\n",
       "      <td>93.570312</td>\n",
       "      <td>46.698114</td>\n",
       "      <td>0.531905</td>\n",
       "      <td>0.416721</td>\n",
       "      <td>1.636288</td>\n",
       "      <td>14.545074</td>\n",
       "      <td>10.621748</td>\n",
       "      <td>131.394004</td>\n",
       "      <td>0</td>\n",
       "    </tr>\n",
       "  </tbody>\n",
       "</table>\n",
       "</div>"
      ],
      "text/plain": [
       "           M1        ST1       EX1       SK1        M2        ST2        EX2  \\\n",
       "0  102.507812  58.882430  0.465318 -0.515088  1.677258  14.860146  10.576487   \n",
       "1  103.015625  39.341649  0.323328  1.051164  3.121237  21.744669   7.735822   \n",
       "2  136.750000  57.178449 -0.068415 -0.636238  3.642977  20.959280   6.896499   \n",
       "3   88.726562  40.672225  0.600866  1.123492  1.178930  11.468720  14.269573   \n",
       "4   93.570312  46.698114  0.531905  0.416721  1.636288  14.545074  10.621748   \n",
       "\n",
       "          SK2  class  \n",
       "0  127.393580      0  \n",
       "1   63.171909      0  \n",
       "2   53.593661      0  \n",
       "3  252.567306      0  \n",
       "4  131.394004      0  "
      ]
     },
     "execution_count": 115,
     "metadata": {},
     "output_type": "execute_result"
    }
   ],
   "source": [
    "import pandas as pd\n",
    "import numpy as np\n",
    "from sklearn import cluster\n",
    "from sklearn import metrics \n",
    "from sklearn.cluster import KMeans, AgglomerativeClustering\n",
    "import matplotlib.pyplot as plt\n",
    "from sklearn.metrics.cluster import contingency_matrix\n",
    "from sklearn.metrics import accuracy_score, classification_report\n",
    "import matplotlib.pyplot as plt\n",
    "from sklearn.metrics import accuracy_score, classification_report\n",
    "data = pd.read_csv(\"D:\\Project-ML\\HTRU2 (1)\\HTRU_2.csv\")\n",
    "data.columns = ['M1','ST1','EX1','SK1','M2','ST2','EX2','SK2','class']    \n",
    "data.head()     "
   ]
  },
  {
   "cell_type": "code",
   "execution_count": 2,
   "metadata": {},
   "outputs": [
    {
     "name": "stdout",
     "output_type": "stream",
     "text": [
      "<class 'pandas.core.frame.DataFrame'>\n",
      "RangeIndex: 17897 entries, 0 to 17896\n",
      "Data columns (total 9 columns):\n",
      "M1       17897 non-null float64\n",
      "ST1      17897 non-null float64\n",
      "EX1      17897 non-null float64\n",
      "SK1      17897 non-null float64\n",
      "M2       17897 non-null float64\n",
      "ST2      17897 non-null float64\n",
      "EX2      17897 non-null float64\n",
      "SK2      17897 non-null float64\n",
      "class    17897 non-null int64\n",
      "dtypes: float64(8), int64(1)\n",
      "memory usage: 1.2 MB\n"
     ]
    }
   ],
   "source": [
    "data.info() "
   ]
  },
  {
   "cell_type": "code",
   "execution_count": 67,
   "metadata": {},
   "outputs": [
    {
     "data": {
      "text/html": [
       "<div>\n",
       "<style scoped>\n",
       "    .dataframe tbody tr th:only-of-type {\n",
       "        vertical-align: middle;\n",
       "    }\n",
       "\n",
       "    .dataframe tbody tr th {\n",
       "        vertical-align: top;\n",
       "    }\n",
       "\n",
       "    .dataframe thead th {\n",
       "        text-align: right;\n",
       "    }\n",
       "</style>\n",
       "<table border=\"1\" class=\"dataframe\">\n",
       "  <thead>\n",
       "    <tr style=\"text-align: right;\">\n",
       "      <th></th>\n",
       "      <th>M1</th>\n",
       "      <th>ST1</th>\n",
       "      <th>EX1</th>\n",
       "      <th>SK1</th>\n",
       "      <th>M2</th>\n",
       "      <th>ST2</th>\n",
       "      <th>EX2</th>\n",
       "      <th>SK2</th>\n",
       "      <th>class</th>\n",
       "    </tr>\n",
       "  </thead>\n",
       "  <tbody>\n",
       "    <tr>\n",
       "      <td>count</td>\n",
       "      <td>17897.000000</td>\n",
       "      <td>17897.000000</td>\n",
       "      <td>17897.000000</td>\n",
       "      <td>17897.000000</td>\n",
       "      <td>17897.000000</td>\n",
       "      <td>17897.000000</td>\n",
       "      <td>17897.000000</td>\n",
       "      <td>17897.000000</td>\n",
       "      <td>17897.00000</td>\n",
       "    </tr>\n",
       "    <tr>\n",
       "      <td>mean</td>\n",
       "      <td>111.078321</td>\n",
       "      <td>46.549021</td>\n",
       "      <td>0.477897</td>\n",
       "      <td>1.770417</td>\n",
       "      <td>12.614926</td>\n",
       "      <td>26.326918</td>\n",
       "      <td>8.303574</td>\n",
       "      <td>104.859419</td>\n",
       "      <td>0.09158</td>\n",
       "    </tr>\n",
       "    <tr>\n",
       "      <td>std</td>\n",
       "      <td>25.652705</td>\n",
       "      <td>6.843040</td>\n",
       "      <td>1.064056</td>\n",
       "      <td>6.168058</td>\n",
       "      <td>29.473637</td>\n",
       "      <td>19.471042</td>\n",
       "      <td>4.506217</td>\n",
       "      <td>106.517270</td>\n",
       "      <td>0.28844</td>\n",
       "    </tr>\n",
       "    <tr>\n",
       "      <td>min</td>\n",
       "      <td>5.812500</td>\n",
       "      <td>24.772042</td>\n",
       "      <td>-1.876011</td>\n",
       "      <td>-1.791886</td>\n",
       "      <td>0.213211</td>\n",
       "      <td>7.370432</td>\n",
       "      <td>-3.139270</td>\n",
       "      <td>-1.976976</td>\n",
       "      <td>0.00000</td>\n",
       "    </tr>\n",
       "    <tr>\n",
       "      <td>25%</td>\n",
       "      <td>100.929688</td>\n",
       "      <td>42.375426</td>\n",
       "      <td>0.027108</td>\n",
       "      <td>-0.188528</td>\n",
       "      <td>1.923077</td>\n",
       "      <td>14.437330</td>\n",
       "      <td>5.781485</td>\n",
       "      <td>34.957119</td>\n",
       "      <td>0.00000</td>\n",
       "    </tr>\n",
       "    <tr>\n",
       "      <td>50%</td>\n",
       "      <td>115.078125</td>\n",
       "      <td>46.946435</td>\n",
       "      <td>0.223241</td>\n",
       "      <td>0.198736</td>\n",
       "      <td>2.801839</td>\n",
       "      <td>18.459977</td>\n",
       "      <td>8.433872</td>\n",
       "      <td>83.068996</td>\n",
       "      <td>0.00000</td>\n",
       "    </tr>\n",
       "    <tr>\n",
       "      <td>75%</td>\n",
       "      <td>127.085938</td>\n",
       "      <td>51.022887</td>\n",
       "      <td>0.473349</td>\n",
       "      <td>0.928206</td>\n",
       "      <td>5.464883</td>\n",
       "      <td>28.428152</td>\n",
       "      <td>10.702973</td>\n",
       "      <td>139.310905</td>\n",
       "      <td>0.00000</td>\n",
       "    </tr>\n",
       "    <tr>\n",
       "      <td>max</td>\n",
       "      <td>192.617188</td>\n",
       "      <td>98.778911</td>\n",
       "      <td>8.069522</td>\n",
       "      <td>68.101622</td>\n",
       "      <td>223.392140</td>\n",
       "      <td>110.642211</td>\n",
       "      <td>34.539844</td>\n",
       "      <td>1191.000837</td>\n",
       "      <td>1.00000</td>\n",
       "    </tr>\n",
       "  </tbody>\n",
       "</table>\n",
       "</div>"
      ],
      "text/plain": [
       "                 M1           ST1           EX1           SK1            M2  \\\n",
       "count  17897.000000  17897.000000  17897.000000  17897.000000  17897.000000   \n",
       "mean     111.078321     46.549021      0.477897      1.770417     12.614926   \n",
       "std       25.652705      6.843040      1.064056      6.168058     29.473637   \n",
       "min        5.812500     24.772042     -1.876011     -1.791886      0.213211   \n",
       "25%      100.929688     42.375426      0.027108     -0.188528      1.923077   \n",
       "50%      115.078125     46.946435      0.223241      0.198736      2.801839   \n",
       "75%      127.085938     51.022887      0.473349      0.928206      5.464883   \n",
       "max      192.617188     98.778911      8.069522     68.101622    223.392140   \n",
       "\n",
       "                ST2           EX2           SK2        class  \n",
       "count  17897.000000  17897.000000  17897.000000  17897.00000  \n",
       "mean      26.326918      8.303574    104.859419      0.09158  \n",
       "std       19.471042      4.506217    106.517270      0.28844  \n",
       "min        7.370432     -3.139270     -1.976976      0.00000  \n",
       "25%       14.437330      5.781485     34.957119      0.00000  \n",
       "50%       18.459977      8.433872     83.068996      0.00000  \n",
       "75%       28.428152     10.702973    139.310905      0.00000  \n",
       "max      110.642211     34.539844   1191.000837      1.00000  "
      ]
     },
     "execution_count": 67,
     "metadata": {},
     "output_type": "execute_result"
    }
   ],
   "source": [
    "data.describe()"
   ]
  },
  {
   "cell_type": "code",
   "execution_count": 92,
   "metadata": {},
   "outputs": [],
   "source": [
    "#describe X as features and y as class. \n",
    "x=data[data.columns[:-1]]\n",
    "y=data['class']"
   ]
  },
  {
   "cell_type": "code",
   "execution_count": 91,
   "metadata": {},
   "outputs": [
    {
     "name": "stdout",
     "output_type": "stream",
     "text": [
      "               M1        ST1       EX1       SK1          M2        ST2  \\\n",
      "0      102.507812  58.882430  0.465318 -0.515088    1.677258  14.860146   \n",
      "1      103.015625  39.341649  0.323328  1.051164    3.121237  21.744669   \n",
      "2      136.750000  57.178449 -0.068415 -0.636238    3.642977  20.959280   \n",
      "3       88.726562  40.672225  0.600866  1.123492    1.178930  11.468720   \n",
      "4       93.570312  46.698114  0.531905  0.416721    1.636288  14.545074   \n",
      "...           ...        ...       ...       ...         ...        ...   \n",
      "17892  136.429688  59.847421 -0.187846 -0.738123    1.296823  12.166062   \n",
      "17893  122.554688  49.485605  0.127978  0.323061   16.409699  44.626893   \n",
      "17894  119.335938  59.935939  0.159363 -0.743025   21.430602  58.872000   \n",
      "17895  114.507812  53.902400  0.201161 -0.024789    1.946488  13.381731   \n",
      "17896   57.062500  85.797340  1.406391  0.089520  188.306020  64.712562   \n",
      "\n",
      "             EX2         SK2  \n",
      "0      10.576487  127.393580  \n",
      "1       7.735822   63.171909  \n",
      "2       6.896499   53.593661  \n",
      "3      14.269573  252.567306  \n",
      "4      10.621748  131.394004  \n",
      "...          ...         ...  \n",
      "17892  15.450260  285.931022  \n",
      "17893   2.945244    8.297092  \n",
      "17894   2.499517    4.595173  \n",
      "17895  10.007967  134.238910  \n",
      "17896  -1.597527    1.429475  \n",
      "\n",
      "[17897 rows x 8 columns]\n"
     ]
    }
   ],
   "source": [
    "print(x)"
   ]
  },
  {
   "cell_type": "code",
   "execution_count": 88,
   "metadata": {},
   "outputs": [
    {
     "data": {
      "text/html": [
       "<div>\n",
       "<style scoped>\n",
       "    .dataframe tbody tr th:only-of-type {\n",
       "        vertical-align: middle;\n",
       "    }\n",
       "\n",
       "    .dataframe tbody tr th {\n",
       "        vertical-align: top;\n",
       "    }\n",
       "\n",
       "    .dataframe thead th {\n",
       "        text-align: right;\n",
       "    }\n",
       "</style>\n",
       "<table border=\"1\" class=\"dataframe\">\n",
       "  <thead>\n",
       "    <tr style=\"text-align: right;\">\n",
       "      <th></th>\n",
       "      <th>0</th>\n",
       "      <th>1</th>\n",
       "      <th>2</th>\n",
       "      <th>3</th>\n",
       "      <th>4</th>\n",
       "      <th>5</th>\n",
       "      <th>6</th>\n",
       "      <th>7</th>\n",
       "    </tr>\n",
       "  </thead>\n",
       "  <tbody>\n",
       "    <tr>\n",
       "      <td>0</td>\n",
       "      <td>-0.334107</td>\n",
       "      <td>1.802379</td>\n",
       "      <td>-0.011822</td>\n",
       "      <td>-0.370549</td>\n",
       "      <td>-0.371110</td>\n",
       "      <td>-0.588931</td>\n",
       "      <td>0.504409</td>\n",
       "      <td>0.211560</td>\n",
       "    </tr>\n",
       "    <tr>\n",
       "      <td>1</td>\n",
       "      <td>-0.314311</td>\n",
       "      <td>-1.053271</td>\n",
       "      <td>-0.145268</td>\n",
       "      <td>-0.116613</td>\n",
       "      <td>-0.322117</td>\n",
       "      <td>-0.235343</td>\n",
       "      <td>-0.125997</td>\n",
       "      <td>-0.391379</td>\n",
       "    </tr>\n",
       "    <tr>\n",
       "      <td>2</td>\n",
       "      <td>1.000768</td>\n",
       "      <td>1.553363</td>\n",
       "      <td>-0.513438</td>\n",
       "      <td>-0.390191</td>\n",
       "      <td>-0.304414</td>\n",
       "      <td>-0.275681</td>\n",
       "      <td>-0.312261</td>\n",
       "      <td>-0.481304</td>\n",
       "    </tr>\n",
       "    <tr>\n",
       "      <td>3</td>\n",
       "      <td>-0.871346</td>\n",
       "      <td>-0.858823</td>\n",
       "      <td>0.115570</td>\n",
       "      <td>-0.104886</td>\n",
       "      <td>-0.388018</td>\n",
       "      <td>-0.763113</td>\n",
       "      <td>1.323985</td>\n",
       "      <td>1.386742</td>\n",
       "    </tr>\n",
       "    <tr>\n",
       "      <td>4</td>\n",
       "      <td>-0.682521</td>\n",
       "      <td>0.021788</td>\n",
       "      <td>0.050758</td>\n",
       "      <td>-0.219475</td>\n",
       "      <td>-0.372501</td>\n",
       "      <td>-0.605113</td>\n",
       "      <td>0.514453</td>\n",
       "      <td>0.249118</td>\n",
       "    </tr>\n",
       "  </tbody>\n",
       "</table>\n",
       "</div>"
      ],
      "text/plain": [
       "          0         1         2         3         4         5         6  \\\n",
       "0 -0.334107  1.802379 -0.011822 -0.370549 -0.371110 -0.588931  0.504409   \n",
       "1 -0.314311 -1.053271 -0.145268 -0.116613 -0.322117 -0.235343 -0.125997   \n",
       "2  1.000768  1.553363 -0.513438 -0.390191 -0.304414 -0.275681 -0.312261   \n",
       "3 -0.871346 -0.858823  0.115570 -0.104886 -0.388018 -0.763113  1.323985   \n",
       "4 -0.682521  0.021788  0.050758 -0.219475 -0.372501 -0.605113  0.514453   \n",
       "\n",
       "          7  \n",
       "0  0.211560  \n",
       "1 -0.391379  \n",
       "2 -0.481304  \n",
       "3  1.386742  \n",
       "4  0.249118  "
      ]
     },
     "execution_count": 88,
     "metadata": {},
     "output_type": "execute_result"
    }
   ],
   "source": [
    "#Standardize the data\n",
    "from sklearn.preprocessing import StandardScaler\n",
    "X = StandardScaler().fit_transform(X)\n",
    "pd.DataFrame(X).head()"
   ]
  },
  {
   "cell_type": "code",
   "execution_count": 96,
   "metadata": {},
   "outputs": [
    {
     "data": {
      "text/plain": [
       "Text(0, 0.5, 'Inertia')"
      ]
     },
     "execution_count": 96,
     "metadata": {},
     "output_type": "execute_result"
    },
    {
     "data": {
      "image/png": "[encoded data removed]",
      "text/plain": [
       "<Figure size 864x432 with 1 Axes>"
      ]
     },
     "metadata": {
      "needs_background": "light"
     },
     "output_type": "display_data"
    }
   ],
   "source": [
    "#using elbow method\n",
    "SSE = []\n",
    "# Defining the 5 cluster and calculating the sum of squared error in SSE\n",
    "for cluster in range(1,8):\n",
    "    kmeans = KMeans(n_clusters = cluster, init='k-means++')\n",
    "    kmeans.fit(X)\n",
    "    SSE.append(kmeans.inertia_)\n",
    "\n",
    "    \n",
    "import matplotlib.pyplot as plt\n",
    "frame = pd.DataFrame({'Cluster':range(1,8), 'SSE':SSE})\n",
    "plt.figure(figsize=(12,6))\n",
    "plt.plot(frame['Cluster'], frame['SSE'], marker='o')\n",
    "plt.xlabel('Number of clusters')\n",
    "plt.ylabel('Inertia')"
   ]
  },
  {
   "cell_type": "markdown",
   "metadata": {},
   "source": [
    "# Apply K-Means for all features"
   ]
  },
  {
   "cell_type": "code",
   "execution_count": 117,
   "metadata": {},
   "outputs": [
    {
     "name": "stdout",
     "output_type": "stream",
     "text": [
      "[[15482   776]\n",
      " [  358  1281]]\n",
      "classification report\n",
      "              precision    recall  f1-score   support\n",
      "\n",
      "           0       0.98      0.95      0.96     16258\n",
      "           1       0.62      0.78      0.69      1639\n",
      "\n",
      "    accuracy                           0.94     17897\n",
      "   macro avg       0.80      0.87      0.83     17897\n",
      "weighted avg       0.94      0.94      0.94     17897\n",
      "\n"
     ]
    }
   ],
   "source": [
    "\n",
    "##Standardize data\n",
    "from sklearn.preprocessing import StandardScaler\n",
    "X = StandardScaler().fit_transform(X)\n",
    "\n",
    "# k means using 2 cluster \n",
    "kmeans = KMeans(n_clusters=2, init='k-means++')\n",
    "kmeans.fit(X)\n",
    "pred_K_X = kmeans.fit_predict(X)\n",
    "\n",
    "frame = pd.DataFrame(X)\n",
    "frame['cluster'] = pred_K_X\n",
    "frame['cluster'].value_counts()\n",
    "\n",
    "#Contingency matrix \n",
    "cm_k_X = contingency_matrix(y, pred_K_X)\n",
    "print(cm_k_X)\n",
    "\n",
    "#Classification report for all featuers\n",
    "print(\"classification report\")\n",
    "print(classification_report(y, pred_K_X))"
   ]
  },
  {
   "cell_type": "code",
   "execution_count": 109,
   "metadata": {},
   "outputs": [
    {
     "data": {
      "text/plain": [
       "<matplotlib.collections.PathCollection at 0x28a4eaf3a08>"
      ]
     },
     "execution_count": 109,
     "metadata": {},
     "output_type": "execute_result"
    },
    {
     "data": {
      "image/png": "[encoded data removed]",
      "text/plain": [
       "<Figure size 432x288 with 1 Axes>"
      ]
     },
     "metadata": {
      "needs_background": "light"
     },
     "output_type": "display_data"
    }
   ],
   "source": [
    "#Plotting the KMeans cluster=2\n",
    "import matplotlib.pyplot as plt\n",
    "plt.scatter(X[:, 0], X[:, 1], c=pred_K_X, cmap = 'rainbow')"
   ]
  },
  {
   "cell_type": "markdown",
   "metadata": {},
   "source": [
    "# SPLITING FEATURES IN TWO PARTS\n"
   ]
  },
  {
   "cell_type": "code",
   "execution_count": 93,
   "metadata": {},
   "outputs": [
    {
     "name": "stdout",
     "output_type": "stream",
     "text": [
      "           M1        ST1       EX1       SK1\n",
      "0  102.507812  58.882430  0.465318 -0.515088\n",
      "1  103.015625  39.341649  0.323328  1.051164\n",
      "2  136.750000  57.178449 -0.068415 -0.636238\n",
      "3   88.726562  40.672225  0.600866  1.123492\n",
      "4   93.570312  46.698114  0.531905  0.416721\n",
      "         M2        ST2        EX2         SK2\n",
      "0  1.677258  14.860146  10.576487  127.393580\n",
      "1  3.121237  21.744669   7.735822   63.171909\n",
      "2  3.642977  20.959280   6.896499   53.593661\n",
      "3  1.178930  11.468720  14.269573  252.567306\n",
      "4  1.636288  14.545074  10.621748  131.394004\n"
     ]
    }
   ],
   "source": [
    "#Divide features in two parts, first 4 feature(x_1_4) and last four features(x_5_8)\n",
    "\n",
    "X = data[data.columns[:-1]]        #remove the class\n",
    "X_5_8= data.drop(['M1','ST1','EX1','SK1','class'], axis=1)  #remove first 4 columns and class   \n",
    "X_1_4 = data.drop(['M2','ST2','EX2','SK2','class'], axis=1) #remove last 4 columns and class   \n",
    "y = data['class']\n",
    "print(X_1_4.head())\n",
    "print(X_5_8.head())"
   ]
  },
  {
   "cell_type": "markdown",
   "metadata": {},
   "source": [
    "# FIRST FOUR FEATURES"
   ]
  },
  {
   "cell_type": "code",
   "execution_count": 118,
   "metadata": {},
   "outputs": [
    {
     "name": "stdout",
     "output_type": "stream",
     "text": [
      "[[16242    16]\n",
      " [  659   980]]\n",
      "classification report\n",
      "              precision    recall  f1-score   support\n",
      "\n",
      "           0       0.96      1.00      0.98     16258\n",
      "           1       0.98      0.60      0.74      1639\n",
      "\n",
      "    accuracy                           0.96     17897\n",
      "   macro avg       0.97      0.80      0.86     17897\n",
      "weighted avg       0.96      0.96      0.96     17897\n",
      "\n"
     ]
    }
   ],
   "source": [
    "#Standardize the data\n",
    "from sklearn.preprocessing import StandardScaler\n",
    "X_1_4 = StandardScaler().fit_transform(X_1_4)\n",
    "\n",
    "# kmeans using 2 clusters \n",
    "kmeans = KMeans(n_clusters=2, init='k-means++')\n",
    "kmeans.fit(X_1_4)\n",
    "pred_K_X_1_4 = kmeans.fit_predict(X_1_4)\n",
    "\n",
    "frame = pd.DataFrame(X_1_4)\n",
    "frame['cluster'] = pred_K_X_1_4\n",
    "frame['cluster'].value_counts()\n",
    "\n",
    "#Contingency metrix\n",
    "cm_K_X_1_4 = contingency_matrix(y, pred_K_X_1_4)\n",
    "print(cm_K_X_1_4)\n",
    "\n",
    "#Classification report for first four features\n",
    "print(\"classification report\")\n",
    "print(classification_report(y, pred_K_X_1_4))"
   ]
  },
  {
   "cell_type": "code",
   "execution_count": 112,
   "metadata": {},
   "outputs": [
    {
     "data": {
      "text/plain": [
       "<matplotlib.collections.PathCollection at 0x28a4f0c9b88>"
      ]
     },
     "execution_count": 112,
     "metadata": {},
     "output_type": "execute_result"
    },
    {
     "data": {
      "image/png": "[encoded data removed]",
      "text/plain": [
       "<Figure size 432x288 with 1 Axes>"
      ]
     },
     "metadata": {
      "needs_background": "light"
     },
     "output_type": "display_data"
    }
   ],
   "source": [
    "#Scatter plot shown the data point for cluster = 2 \n",
    "plt.scatter(X_1_4[:, 0], X_1_4[:, 1], c=pred_K_X_1_4, cmap = 'rainbow')"
   ]
  },
  {
   "cell_type": "markdown",
   "metadata": {},
   "source": [
    "# LAST FOUR FEATURES"
   ]
  },
  {
   "cell_type": "code",
   "execution_count": 119,
   "metadata": {},
   "outputs": [
    {
     "name": "stdout",
     "output_type": "stream",
     "text": [
      "[[14862  1396]\n",
      " [  456  1183]]\n",
      "classification report\n",
      "              precision    recall  f1-score   support\n",
      "\n",
      "           0       0.97      0.91      0.94     16258\n",
      "           1       0.46      0.72      0.56      1639\n",
      "\n",
      "    accuracy                           0.90     17897\n",
      "   macro avg       0.71      0.82      0.75     17897\n",
      "weighted avg       0.92      0.90      0.91     17897\n",
      "\n"
     ]
    }
   ],
   "source": [
    "#Standardize the data\n",
    "from sklearn.preprocessing import StandardScaler\n",
    "X_5_8 = StandardScaler().fit_transform(X_5_8) \n",
    "\n",
    "# kmeans using 2 clusters\n",
    "kmeans = KMeans(n_clusters=2, init='k-means++')\n",
    "kmeans.fit(X_5_8)\n",
    "pred_K_X_5_8 = kmeans.fit_predict(X_5_8)\n",
    "\n",
    "frame = pd.DataFrame(X_5_8)\n",
    "frame['cluster'] = pred_K_X_5_8\n",
    "frame['cluster'].value_counts()\n",
    "\n",
    "#Contingency metrix\n",
    "cm_K_X_5_8 = contingency_matrix(y, pred_K_X_5_8)\n",
    "print(cm_K_X_5_8)\n",
    "\n",
    "#Classification report for last four features\n",
    "print(\"classification report\")\n",
    "print(classification_report(y, pred_K_X_5_8))\n"
   ]
  },
  {
   "cell_type": "code",
   "execution_count": 114,
   "metadata": {},
   "outputs": [
    {
     "data": {
      "text/plain": [
       "<matplotlib.collections.PathCollection at 0x28a4f131ac8>"
      ]
     },
     "execution_count": 114,
     "metadata": {},
     "output_type": "execute_result"
    },
    {
     "data": {
      "image/png": "[encoded data removed]",
      "text/plain": [
       "<Figure size 432x288 with 1 Axes>"
      ]
     },
     "metadata": {
      "needs_background": "light"
     },
     "output_type": "display_data"
    }
   ],
   "source": [
    "#Scatter plot shown the data point for cluster = 2 \n",
    "plt.scatter(X_5_8[:, 0], X_5_8[:, 1], c=pred_K_X_5_8, cmap = 'rainbow')\n"
   ]
  }
 ],
 "metadata": {
  "kernelspec": {
   "display_name": "Python 3",
   "language": "python",
   "name": "python3"
  },
  "language_info": {
   "codemirror_mode": {
    "name": "ipython",
    "version": 3
   },
   "file_extension": ".py",
   "mimetype": "text/x-python",
   "name": "python",
   "nbconvert_exporter": "python",
   "pygments_lexer": "ipython3",
   "version": "3.8.5"
  }
 },
 "nbformat": 4,
 "nbformat_minor": 2
}
